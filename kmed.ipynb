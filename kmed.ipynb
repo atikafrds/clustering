{
 "cells": [
  {
   "cell_type": "code",
   "execution_count": null,
   "metadata": {},
   "outputs": [],
   "source": [
    "import pandas as pd\n",
    "\n",
    "df = pd.read_csv(\"CencusIncome_data_preprocess.csv\")"
   ]
  },
  {
   "cell_type": "code",
   "execution_count": 11,
   "metadata": {},
   "outputs": [
    {
     "data": {
      "text/plain": [
       "[[39, 77516, 13, 2174, 0, 40],\n",
       " [50, 83311, 13, 0, 0, 13],\n",
       " [38, 215646, 9, 0, 0, 40],\n",
       " [53, 234721, 7, 0, 0, 40],\n",
       " [28, 338409, 13, 0, 0, 40]]"
      ]
     },
     "execution_count": 11,
     "metadata": {},
     "output_type": "execute_result"
    }
   ],
   "source": [
    "import pandas as pd\n",
    "\n",
    "df = pd.read_csv(\"CencusIncome_data_preprocess.csv\")\n",
    "\n",
    "arr = []\n",
    "for i in range(0, 10):\n",
    "    arr_temp = []\n",
    "    for j in range(0, len(df.iloc[0])):\n",
    "        arr_temp.append(df.iloc[i][j])\n",
    "    arr.append(arr_temp)\n",
    "\n",
    "arr[0:5]\n",
    "\n"
   ]
  },
  {
   "cell_type": "code",
   "execution_count": 9,
   "metadata": {},
   "outputs": [
    {
     "name": "stdout",
     "output_type": "stream",
     "text": [
      "39\n"
     ]
    }
   ],
   "source": []
  },
  {
   "cell_type": "code",
   "execution_count": 7,
   "metadata": {},
   "outputs": [
    {
     "name": "stdout",
     "output_type": "stream",
     "text": [
      "[[ 0.  0.  0. ...,  0.  0.  0.]\n",
      " [ 0.  0.  0. ...,  0.  0.  0.]\n",
      " [ 0.  0.  0. ...,  0.  0.  0.]\n",
      " ..., \n",
      " [ 0.  0.  0. ...,  0.  0.  0.]\n",
      " [ 0.  0.  0. ...,  0.  0.  0.]\n",
      " [ 0.  0.  0. ...,  0.  0.  0.]]\n"
     ]
    }
   ],
   "source": [
    "# coding: utf-8\n",
    "from sklearn.metrics.pairwise import pairwise_distances\n",
    "import numpy as np\n",
    "\n",
    "import kmedoids\n",
    "\n",
    "arr = []\n",
    "for i in range(0, 100):\n",
    "    arr_temp = []\n",
    "    for j in range(0, 5):\n",
    "        arr_temp.append(1)\n",
    "    arr.append(arr_temp)\n",
    "\n",
    "# 3 points in dataset\n",
    "# data = np.array([[1,1],\n",
    "#                 [2,2],\n",
    "#                 [10,10]])\n",
    "data = np.array(arr)\n",
    "\n",
    "# distance matrix\n",
    "D = pairwise_distances(data, metric='euclidean')\n",
    "print(D)\n"
   ]
  }
 ],
 "metadata": {
  "kernelspec": {
   "display_name": "Python 3",
   "language": "python",
   "name": "python3"
  },
  "language_info": {
   "codemirror_mode": {
    "name": "ipython",
    "version": 3
   },
   "file_extension": ".py",
   "mimetype": "text/x-python",
   "name": "python",
   "nbconvert_exporter": "python",
   "pygments_lexer": "ipython3",
   "version": "3.5.2"
  }
 },
 "nbformat": 4,
 "nbformat_minor": 2
}
